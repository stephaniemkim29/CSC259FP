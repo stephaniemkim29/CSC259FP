{
 "cells": [
  {
   "cell_type": "code",
   "execution_count": 30,
   "metadata": {},
   "outputs": [],
   "source": [
    "import numpy as np\n",
    "\n",
    "def dft(signal):\n",
    "    N = len(signal)  \n",
    "    W_N = np.exp(-2j * np.pi / N)\n",
    "    DFT = np.zeros((N, N), dtype=complex)\n",
    "    \n",
    "   \n",
    "    for i in range(N): \n",
    "        for j in range(N): \n",
    "            DFT[i, j] = W_N ** (i * j) \n",
    "\n",
    "    transformed_signal = np.dot(DFT, signal)  \n",
    "    \n",
    "    return transformed_signal\n",
    "    "
   ]
  },
  {
   "cell_type": "code",
   "execution_count": null,
   "metadata": {},
   "outputs": [
    {
     "name": "stdout",
     "output_type": "stream",
     "text": [
      "DFT Result: [55.+0.00000000e+00j -5.+1.53884177e+01j -5.+6.88190960e+00j\n",
      " -5.+3.63271264e+00j -5.+1.62459848e+00j -5.-8.80431565e-15j\n",
      " -5.-1.62459848e+00j -5.-3.63271264e+00j -5.-6.88190960e+00j\n",
      " -5.-1.53884177e+01j]\n"
     ]
    }
   ],
   "source": [
    "\n",
    "signal = np.array([1, 2, 3, 4, 5, 6, 7, 8, 9 , 10]) #example\n",
    "dft_result = dft(signal)\n",
    "print(\"DFT Result:\", dft_result)"
   ]
  }
 ],
 "metadata": {
  "kernelspec": {
   "display_name": "Python 3",
   "language": "python",
   "name": "python3"
  },
  "language_info": {
   "codemirror_mode": {
    "name": "ipython",
    "version": 3
   },
   "file_extension": ".py",
   "mimetype": "text/x-python",
   "name": "python",
   "nbconvert_exporter": "python",
   "pygments_lexer": "ipython3",
   "version": "3.13.1"
  }
 },
 "nbformat": 4,
 "nbformat_minor": 2
}
