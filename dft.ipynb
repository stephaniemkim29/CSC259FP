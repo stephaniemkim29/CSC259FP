{
 "cells": [
  {
   "cell_type": "code",
   "execution_count": null,
   "metadata": {},
   "outputs": [],
   "source": [
    "import numpy as np\n",
    "\n",
    "def dft(signal):\n",
    "    N = len(signal)  \n",
    "    W_N = np.exp(-2j * np.pi / N)\n",
    "    DFT = np.zeros((N, N), dtype=complex)\n",
    "    \n",
    "    for i in range(N): \n",
    "        for j in range(N): \n",
    "            DFT[i, j] = W_N ** (i * j) \n",
    "\n",
    "    transformed_signal = np.dot(DFT, signal)  \n",
    "    \n",
    "    return transformed_signal\n",
    "\n",
    "dft_result = dft(signal)\n",
    "print(\"dft result: \", dft_result)\n",
    "\n",
    "    "
   ]
  },
  {
   "cell_type": "code",
   "execution_count": null,
   "metadata": {},
   "outputs": [
    {
     "name": "stdout",
     "output_type": "stream",
     "text": [
      "Reconstructed Signal (Time Domain): [ 1.-1.57651669e-14j  2.-8.77076189e-15j  3.-3.88578059e-15j\n",
      "  4.-7.77156117e-16j  5.+3.10862447e-15j  6.+5.57770317e-15j\n",
      "  7.+6.32827124e-15j  8.+6.10622664e-15j  9.+1.99840144e-15j\n",
      " 10.-1.07136522e-14j]\n",
      "Original Signal: [ 1  2  3  4  5  6  7  8  9 10]\n",
      "DFT Result: [55.+0.00000000e+00j -5.+1.53884177e+01j -5.+6.88190960e+00j\n",
      " -5.+3.63271264e+00j -5.+1.62459848e+00j -5.-8.80431565e-15j\n",
      " -5.-1.62459848e+00j -5.-3.63271264e+00j -5.-6.88190960e+00j\n",
      " -5.-1.53884177e+01j]\n",
      "Reconstructed Signal (IDFT): [ 1.  2.  3.  4.  5.  6.  7.  8.  9. 10.]\n"
     ]
    }
   ],
   "source": [
    "def idft(signal):\n",
    "    N = len(signal) \n",
    "    W_N = np.exp(2j * np.pi / N)\n",
    "    IDFT = np.zeros((N, N), dtype=complex)\n",
    "    \n",
    "    for i in range(N):  \n",
    "        for j in range(N):  \n",
    "            IDFT[i, j] = W_N ** (i * j) / N  \n",
    "    \n",
    "    reconstructed_signal = np.dot(IDFT, signal) \n",
    "    \n",
    "    return reconstructed_signal\n",
    "\n",
    "\n",
    "idft_result = idft(dft_result)\n",
    "print(\"Reconstructed Signal (Time Domain):\", idft_result)\n",
    "\n",
    "# dft_result = dft(signal)\n",
    "# reconstructed_signal = idft(dft_result)\n",
    "# print(\"Original Signal:\", signal)\n",
    "# print(\"DFT Result:\", dft_result)\n",
    "# print(\"Reconstructed Signal (IDFT):\", reconstructed_signal.real)"
   ]
  },
  {
   "cell_type": "code",
   "execution_count": 70,
   "metadata": {},
   "outputs": [],
   "source": [
    "def circular_convolution(v1, v2):\n",
    "    \"\"\"Compute the circular convolution of two signals.\"\"\"\n",
    "    N = max(len(v1), len(v2))\n",
    "    v1 = np.pad(v1, (0, N - len(v1)))  # Zero-pad to the same length\n",
    "    v2 = np.pad(v2, (0, N - len(v2)))\n",
    "\n",
    "    c = np.zeros(N, dtype=complex)\n",
    "    for n in range(N):\n",
    "        for k in range(N):\n",
    "            c[n] += v1[k] * v2[(n - k) % N]  # Circular index modulo N\n",
    "\n",
    "    return c\n"
   ]
  },
  {
   "cell_type": "code",
   "execution_count": 71,
   "metadata": {},
   "outputs": [
    {
     "name": "stdout",
     "output_type": "stream",
     "text": [
      "Circular Convolution (Time Domain): [28.+0.j 26.+0.j 28.+0.j 26.+0.j]\n",
      "DFT(v1): [ 6.00000000e+00+0.00000000e+00j -1.45349435e-16+0.00000000e+00j\n",
      " -2.00000000e+00-7.34788079e-16j  7.69115212e-16-4.44089210e-16j]\n",
      "DFT(v2): [18.+0.00000000e+00j -2.+2.00000000e+00j -2.-1.46957616e-15j\n",
      " -2.-2.00000000e+00j]\n",
      "Pointwise Multiplication in Frequency Domain: [ 1.08000000e+02+0.00000000e+00j  2.90698870e-16-2.90698870e-16j\n",
      "  4.00000000e+00+4.40872848e-15j -2.42640884e-15-6.50052004e-16j]\n",
      "Circular Convolution (From Frequency Domain): [28. 26. 28. 26.]\n",
      "Convolution Theorem Verified: Time and Frequency Domain Results Match.\n"
     ]
    }
   ],
   "source": [
    "def convolution_theorem(v1, v2):\n",
    "    # Ensure the signals are the same length by zero-padding\n",
    "    N = max(len(v1), len(v2))\n",
    "    v1 = np.pad(v1, (0, N - len(v1)))\n",
    "    v2 = np.pad(v2, (0, N - len(v2)))\n",
    "\n",
    "    # Time-domain convolution\n",
    "    conv_time = circular_convolution(v1, v2)\n",
    "    print(\"Circular Convolution (Time Domain):\", conv_time)\n",
    "\n",
    "    # Frequency-domain convolution\n",
    "    DFT_v1 = dft(v1)\n",
    "    DFT_v2 = dft(v2)\n",
    "    conv_freq = DFT_v1 * DFT_v2\n",
    "    conv_time_from_freq = idft(conv_freq)\n",
    "\n",
    "    # Results\n",
    "    print(\"DFT(v1):\", DFT_v1)\n",
    "    print(\"DFT(v2):\", DFT_v2)\n",
    "    print(\"Pointwise Multiplication in Frequency Domain:\", conv_freq)\n",
    "    print(\"Circular Convolution (From Frequency Domain):\", np.round(conv_time_from_freq.real, 5))\n",
    "\n",
    "    # Check if both results match\n",
    "    assert np.allclose(conv_time.real, conv_time_from_freq.real), \"Convolution Theorem Validation Failed!\"\n",
    "    print(\"Convolution Theorem Verified: Time and Frequency Domain Results Match.\")\n",
    "\n",
    "convolution_theorem([1, 2, 1, 2], [3, 4, 5, 6])\n",
    "\n"
   ]
  }
 ],
 "metadata": {
  "kernelspec": {
   "display_name": "Python 3",
   "language": "python",
   "name": "python3"
  },
  "language_info": {
   "codemirror_mode": {
    "name": "ipython",
    "version": 3
   },
   "file_extension": ".py",
   "mimetype": "text/x-python",
   "name": "python",
   "nbconvert_exporter": "python",
   "pygments_lexer": "ipython3",
   "version": "3.13.1"
  }
 },
 "nbformat": 4,
 "nbformat_minor": 2
}
