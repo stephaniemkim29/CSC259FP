{
 "cells": [
  {
   "cell_type": "code",
   "execution_count": 4,
   "metadata": {},
   "outputs": [
    {
     "name": "stdout",
     "output_type": "stream",
     "text": [
      "Convolution of the sequences:  [ 5. 16. 34. 60. 61. 52. 32.]\n",
      "Reconstructed signal after IDFT: [ 5. 16. 34. 60. 61. 52. 32.]\n",
      "Convolution of the sequences:  [ 5. 16. 24. 38. 49. 66. 64. 50. 45. 28. 20.]\n",
      "Reconstructed signal after IDFT: [ 5. 16. 24. 38. 49. 66. 64. 50. 45. 28. 20.]\n",
      "Convolution of the sequences:  [ 30.  87. 110. 183. 173. 171. 151. 148. 101.  34.  70.]\n",
      "Reconstructed signal after IDFT: [ 30.  87. 110. 183. 173. 171. 151. 148. 101.  34.  70.]\n"
     ]
    }
   ],
   "source": [
    "import numpy as np\n",
    "\n",
    "# implementing discrete fourier transform\n",
    "def dft(signal):\n",
    "    N = len(signal)\n",
    "    dft_result = np.zeros(N, dtype=complex)\n",
    "    \n",
    "    for k in range(N):\n",
    "        dft_result[k] = np.sum(signal * np.exp(-2j * np.pi * k * np.arange(N) / N))\n",
    "    \n",
    "    return dft_result\n",
    "\n",
    "def idft(signal):\n",
    "    N = len(signal)\n",
    "    idft_result = np.zeros(N, dtype=complex)\n",
    "    \n",
    "    for k in range(N):\n",
    "        idft_result[k] = np.sum(signal * np.exp(2j * np.pi * k * np.arange(N) / N)) / N\n",
    "    \n",
    "    return idft_result\n",
    "\n",
    "# confirming convolution theorem\n",
    "def convolution_theorem(v1, v2):\n",
    "    # zero-padding both sequences\n",
    "    N = len(v1) + len(v2) - 1\n",
    "    v1_padded = np.pad(v1, (0, N - len(v1)), 'constant')\n",
    "    v2_padded = np.pad(v2, (0, N - len(v2)), 'constant')\n",
    "    \n",
    "    # computing convolution\n",
    "    c = np.zeros(N)\n",
    "    for i in range(0, len(v1) + len(v2) - 1):\n",
    "        for k in range(0, i + 1):\n",
    "            if k < len(v1) and i - k < len(v2):\n",
    "                c[i] += v1[k] * v2[i - k]\n",
    "    \n",
    "    print(\"Convolution of the sequences: \", c)\n",
    "\n",
    "    # computing DFT for both vectors\n",
    "    result_dft = dft(v1_padded) * dft(v2_padded)\n",
    "    # getting the inverse dft of the product of the dfts\n",
    "    reconstructed_signal = np.real(idft(result_dft))\n",
    "    \n",
    "    print(\"Reconstructed signal after IDFT:\", reconstructed_signal)\n",
    "    \n",
    "\n",
    "\n",
    "convolution_theorem([1, 2, 3, 4], [5, 6, 7, 8])\n",
    "convolution_theorem([1, 2, 1, 2, 1, 2], [5, 6, 7, 8, 9, 10])\n",
    "convolution_theorem([6, 3, 10, 9, 2, 7], [5, 12, 4, 1, 2, 10])\n",
    "\n"
   ]
  }
 ],
 "metadata": {
  "kernelspec": {
   "display_name": "Python 3",
   "language": "python",
   "name": "python3"
  },
  "language_info": {
   "codemirror_mode": {
    "name": "ipython",
    "version": 3
   },
   "file_extension": ".py",
   "mimetype": "text/x-python",
   "name": "python",
   "nbconvert_exporter": "python",
   "pygments_lexer": "ipython3",
   "version": "3.13.1"
  }
 },
 "nbformat": 4,
 "nbformat_minor": 2
}
